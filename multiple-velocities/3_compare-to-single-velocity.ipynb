{
 "cells": [
  {
   "cell_type": "markdown",
   "metadata": {},
   "source": [
    "# Compare to Single Velocity Model\n",
    "Assess how well our model trained on separate velocities compares to our previous models trained on only a single velocity"
   ]
  },
  {
   "cell_type": "code",
   "execution_count": 1,
   "metadata": {
    "execution": {
     "iopub.execute_input": "2024-06-25T21:12:27.920000Z",
     "iopub.status.busy": "2024-06-25T21:12:27.919682Z",
     "iopub.status.idle": "2024-06-25T21:14:13.416087Z",
     "shell.execute_reply": "2024-06-25T21:14:13.415452Z"
    }
   },
   "outputs": [
    {
     "name": "stderr",
     "output_type": "stream",
     "text": [
      "2024-06-25 16:13:17.295861: I tensorflow/core/util/port.cc:113] oneDNN custom operations are on. You may see slightly different numerical results due to floating-point round-off errors from different computation orders. To turn them off, set the environment variable `TF_ENABLE_ONEDNN_OPTS=0`.\n",
      "2024-06-25 16:13:17.296642: I external/local_tsl/tsl/cuda/cudart_stub.cc:32] Could not find cuda drivers on your machine, GPU will not be used.\n",
      "2024-06-25 16:13:18.393987: I external/local_tsl/tsl/cuda/cudart_stub.cc:32] Could not find cuda drivers on your machine, GPU will not be used.\n",
      "2024-06-25 16:13:19.294658: I tensorflow/core/platform/cpu_feature_guard.cc:210] This TensorFlow binary is optimized to use available CPU instructions in performance-critical operations.\n",
      "To enable the following instructions: AVX2 AVX512F AVX512_VNNI FMA, in other operations, rebuild TensorFlow with the appropriate compiler flags.\n"
     ]
    },
    {
     "name": "stderr",
     "output_type": "stream",
     "text": [
      "2024-06-25 16:13:46.779611: W tensorflow/compiler/tf2tensorrt/utils/py_utils.cc:38] TF-TRT Warning: Could not find TensorRT\n"
     ]
    }
   ],
   "source": [
    "%matplotlib inline\n",
    "import sys\n",
    "import os\n",
    "\n",
    "# Add the directory containing your module to the Python path\n",
    "sys.path.append(os.path.abspath('/scratch/users/elzhou2/stopping-power-ml'))\n",
    "\n",
    "from matplotlib import pyplot as plt\n",
    "from stopping_power_ml.integrator import TrajectoryIntegrator\n",
    "from sklearn.metrics import mean_absolute_error\n",
    "from scipy.stats import spearmanr\n",
    "import pickle as pkl\n",
    "import pandas as pd\n",
    "import numpy as np\n",
    "import keras\n",
    "import os"
   ]
  },
  {
   "cell_type": "markdown",
   "metadata": {},
   "source": [
    "## Load in the Model and Featurizer\n",
    "The model is saved in Keras h5, and the featurizer is in the root directory"
   ]
  },
  {
   "cell_type": "code",
   "execution_count": 2,
   "metadata": {
    "execution": {
     "iopub.execute_input": "2024-06-25T21:14:13.420468Z",
     "iopub.status.busy": "2024-06-25T21:14:13.419340Z",
     "iopub.status.idle": "2024-06-25T21:14:13.767251Z",
     "shell.execute_reply": "2024-06-25T21:14:13.766592Z"
    }
   },
   "outputs": [
    {
     "name": "stderr",
     "output_type": "stream",
     "text": [
      "WARNING:absl:Compiled the loaded model, but the compiled metrics have yet to be built. `model.compile_metrics` will be empty until you train or evaluate the model.\n"
     ]
    }
   ],
   "source": [
    "model = keras.models.load_model('model.h5')"
   ]
  },
  {
   "cell_type": "code",
   "execution_count": 3,
   "metadata": {
    "execution": {
     "iopub.execute_input": "2024-06-25T21:14:13.771031Z",
     "iopub.status.busy": "2024-06-25T21:14:13.770077Z",
     "iopub.status.idle": "2024-06-25T21:14:28.317406Z",
     "shell.execute_reply": "2024-06-25T21:14:28.316819Z"
    }
   },
   "outputs": [],
   "source": [
    "with open('featurizer.pkl', 'rb') as fp:\n",
    "    featurizers = pkl.load(fp)"
   ]
  },
  {
   "cell_type": "code",
   "execution_count": 4,
   "metadata": {
    "execution": {
     "iopub.execute_input": "2024-06-25T21:14:28.321336Z",
     "iopub.status.busy": "2024-06-25T21:14:28.320394Z",
     "iopub.status.idle": "2024-06-25T21:14:28.355274Z",
     "shell.execute_reply": "2024-06-25T21:14:28.354548Z"
    }
   },
   "outputs": [],
   "source": [
    "start_frame = pkl.load(open(os.path.join('..', 'al_starting_frame.pkl'), 'rb'))"
   ]
  },
  {
   "cell_type": "code",
   "execution_count": 5,
   "metadata": {
    "execution": {
     "iopub.execute_input": "2024-06-25T21:14:28.358580Z",
     "iopub.status.busy": "2024-06-25T21:14:28.357669Z",
     "iopub.status.idle": "2024-06-25T21:14:29.218162Z",
     "shell.execute_reply": "2024-06-25T21:14:29.217651Z"
    }
   },
   "outputs": [],
   "source": [
    "train_data = pd.concat([\n",
    "    pd.read_pickle(os.path.join('/scratch/users/elzhou2/stopping-power-ml/multiple-velocities', 'random_traj.pkl')),\n",
    "    pd.read_pickle(os.path.join('/scratch/users/elzhou2/stopping-power-ml/multiple-velocities', 'channel_traj.pkl'))\n",
    "], sort=False)"
   ]
  },
  {
   "cell_type": "code",
   "execution_count": 6,
   "metadata": {
    "execution": {
     "iopub.execute_input": "2024-06-25T21:14:29.222228Z",
     "iopub.status.busy": "2024-06-25T21:14:29.221263Z",
     "iopub.status.idle": "2024-06-25T21:14:29.225298Z",
     "shell.execute_reply": "2024-06-25T21:14:29.224821Z"
    }
   },
   "outputs": [],
   "source": [
    "# with open(os.path.join('..', 'single-velocity', 'traj_computer.pkl'), 'rb') as fp:\n",
    "#     traj_int_single = pkl.load(fp)"
   ]
  },
  {
   "cell_type": "code",
   "execution_count": 7,
   "metadata": {
    "execution": {
     "iopub.execute_input": "2024-06-25T21:14:29.228765Z",
     "iopub.status.busy": "2024-06-25T21:14:29.227834Z",
     "iopub.status.idle": "2024-06-25T21:14:30.193428Z",
     "shell.execute_reply": "2024-06-25T21:14:30.192580Z"
    }
   },
   "outputs": [],
   "source": [
    "data = pd.read_pickle(os.path.join('..', 'training_data.pkl.gz'))"
   ]
  },
  {
   "cell_type": "markdown",
   "metadata": {},
   "source": [
    "## Retrain on Both Channel and Random\n",
    "This will give us a direct comparison to the single velocity model. The weights will start from the weights learned from the random trajectory."
   ]
  },
  {
   "cell_type": "code",
   "execution_count": 8,
   "metadata": {
    "execution": {
     "iopub.execute_input": "2024-06-25T21:14:30.197533Z",
     "iopub.status.busy": "2024-06-25T21:14:30.196598Z",
     "iopub.status.idle": "2024-06-25T21:14:30.204482Z",
     "shell.execute_reply": "2024-06-25T21:14:30.203894Z"
    }
   },
   "outputs": [],
   "source": [
    "model.compile(loss='mean_absolute_error', optimizer='adam', metrics=['mean_absolute_error'])"
   ]
  },
  {
   "cell_type": "code",
   "execution_count": 9,
   "metadata": {
    "execution": {
     "iopub.execute_input": "2024-06-25T21:14:30.207751Z",
     "iopub.status.busy": "2024-06-25T21:14:30.206879Z",
     "iopub.status.idle": "2024-06-25T21:14:30.250375Z",
     "shell.execute_reply": "2024-06-25T21:14:30.249883Z"
    }
   },
   "outputs": [],
   "source": [
    "callbacks = [keras.callbacks.EarlyStopping(monitor='mean_absolute_error', patience=100, verbose=0, mode='auto'),\n",
    "             keras.callbacks.ReduceLROnPlateau('mean_absolute_error', min_delta=1e-6)]"
   ]
  },
  {
   "cell_type": "code",
   "execution_count": 10,
   "metadata": {
    "execution": {
     "iopub.execute_input": "2024-06-25T21:14:30.253720Z",
     "iopub.status.busy": "2024-06-25T21:14:30.252857Z",
     "iopub.status.idle": "2024-06-25T21:35:47.277443Z",
     "shell.execute_reply": "2024-06-25T21:35:47.276572Z"
    }
   },
   "outputs": [
    {
     "name": "stdout",
     "output_type": "stream",
     "text": [
      "CPU times: user 14min 23s, sys: 21.1 s, total: 14min 44s\n",
      "Wall time: 21min 17s\n"
     ]
    }
   ],
   "source": [
    "%%time\n",
    "history = model.fit(train_data[featurizers.feature_labels()], train_data['force'], callbacks=callbacks, verbose=0, epochs=1000)"
   ]
  },
  {
   "cell_type": "code",
   "execution_count": 11,
   "metadata": {
    "execution": {
     "iopub.execute_input": "2024-06-25T21:35:47.281337Z",
     "iopub.status.busy": "2024-06-25T21:35:47.280390Z",
     "iopub.status.idle": "2024-06-25T21:35:48.066915Z",
     "shell.execute_reply": "2024-06-25T21:35:48.066368Z"
    }
   },
   "outputs": [
    {
     "data": {
      "image/png": "[encoded data removed]",
      "text/plain": [
       "<Figure size 350x210 with 1 Axes>"
      ]
     },
     "metadata": {},
     "output_type": "display_data"
    }
   ],
   "source": [
    "fig, ax = plt.subplots()\n",
    "\n",
    "ax.loglog(history.epoch, history.history['mean_absolute_error'], 'k', label='Dense')\n",
    "\n",
    "ax.set_ylabel('MAE ($E_H$ / $a_B$)')\n",
    "ax.set_xlabel('Epoch')\n",
    "\n",
    "ax.legend()\n",
    "\n",
    "fig.set_size_inches(3.5, 2.1)\n",
    "fig.tight_layout()"
   ]
  },
  {
   "cell_type": "markdown",
   "metadata": {},
   "source": [
    "*Finding*: It does converge in a few hundred epochs"
   ]
  },
  {
   "cell_type": "markdown",
   "metadata": {},
   "source": [
    "Save for later use"
   ]
  },
  {
   "cell_type": "code",
   "execution_count": 12,
   "metadata": {
    "execution": {
     "iopub.execute_input": "2024-06-25T21:35:48.070627Z",
     "iopub.status.busy": "2024-06-25T21:35:48.069691Z",
     "iopub.status.idle": "2024-06-25T21:35:48.896913Z",
     "shell.execute_reply": "2024-06-25T21:35:48.896295Z"
    }
   },
   "outputs": [
    {
     "name": "stderr",
     "output_type": "stream",
     "text": [
      "WARNING:absl:You are saving your model as an HDF5 file via `model.save()` or `keras.saving.save_model(model)`. This file format is considered legacy. We recommend using instead the native Keras format, e.g. `model.save('my_model.keras')` or `keras.saving.save_model(model, 'my_model.keras')`. \n"
     ]
    }
   ],
   "source": [
    "model.save('model-random-and-channel.h5')"
   ]
  },
  {
   "cell_type": "markdown",
   "metadata": {},
   "source": [
    "## Get Trajectory Integration Tools\n",
    "These black box the annoying parts of making the trajectories. We'll re-use the one for single velocities (imported earlier)"
   ]
  },
  {
   "cell_type": "code",
   "execution_count": 13,
   "metadata": {
    "execution": {
     "iopub.execute_input": "2024-06-25T21:35:48.900862Z",
     "iopub.status.busy": "2024-06-25T21:35:48.899946Z",
     "iopub.status.idle": "2024-06-25T21:35:49.418032Z",
     "shell.execute_reply": "2024-06-25T21:35:49.417481Z"
    }
   },
   "outputs": [],
   "source": [
    "traj_int = TrajectoryIntegrator(start_frame, model, featurizers)"
   ]
  },
  {
   "cell_type": "markdown",
   "metadata": {},
   "source": [
    "## Plot the Performance on $v=1.0$ Trajectories\n",
    "This is the trajectories for which we have the most data"
   ]
  },
  {
   "cell_type": "code",
   "execution_count": 14,
   "metadata": {
    "execution": {
     "iopub.execute_input": "2024-06-25T21:35:49.422590Z",
     "iopub.status.busy": "2024-06-25T21:35:49.421162Z",
     "iopub.status.idle": "2024-06-25T21:35:49.435802Z",
     "shell.execute_reply": "2024-06-25T21:35:49.434875Z"
    }
   },
   "outputs": [],
   "source": [
    "v1_data = data[np.isclose(data['velocity_mag'], 1.0, atol=1e-3)]"
   ]
  },
  {
   "cell_type": "code",
   "execution_count": 15,
   "metadata": {
    "execution": {
     "iopub.execute_input": "2024-06-25T21:35:49.439529Z",
     "iopub.status.busy": "2024-06-25T21:35:49.438511Z",
     "iopub.status.idle": "2024-06-25T21:35:53.062444Z",
     "shell.execute_reply": "2024-06-25T21:35:53.061143Z"
    }
   },
   "outputs": [
    {
     "name": "stdout",
     "output_type": "stream",
     "text": [
      "\r",
      "\u001b[1m  1/294\u001b[0m \u001b[37m━━━━━━━━━━━━━━━━━━━━\u001b[0m \u001b[1m41s\u001b[0m 141ms/step"
     ]
    },
    {
     "name": "stdout",
     "output_type": "stream",
     "text": [
      "\b\b\b\b\b\b\b\b\b\b\b\b\b\b\b\b\b\b\b\b\b\b\b\b\b\b\b\b\b\b\b\b\b\b\b\b\b\b\b\b\b\b\b\r",
      "\u001b[1m 64/294\u001b[0m \u001b[32m━━━━\u001b[0m\u001b[37m━━━━━━━━━━━━━━━━\u001b[0m \u001b[1m0s\u001b[0m 797us/step "
     ]
    },
    {
     "name": "stdout",
     "output_type": "stream",
     "text": [
      "\b\b\b\b\b\b\b\b\b\b\b\b\b\b\b\b\b\b\b\b\b\b\b\b\b\b\b\b\b\b\b\b\b\b\b\b\b\b\b\b\b\b\r",
      "\u001b[1m129/294\u001b[0m \u001b[32m━━━━━━━━\u001b[0m\u001b[37m━━━━━━━━━━━━\u001b[0m \u001b[1m0s\u001b[0m 784us/step"
     ]
    },
    {
     "name": "stdout",
     "output_type": "stream",
     "text": [
      "\b\b\b\b\b\b\b\b\b\b\b\b\b\b\b\b\b\b\b\b\b\b\b\b\b\b\b\b\b\b\b\b\b\b\b\b\b\b\b\b\b\b\r",
      "\u001b[1m195/294\u001b[0m \u001b[32m━━━━━━━━━━━━━\u001b[0m\u001b[37m━━━━━━━\u001b[0m \u001b[1m0s\u001b[0m 778us/step"
     ]
    },
    {
     "name": "stdout",
     "output_type": "stream",
     "text": [
      "\b\b\b\b\b\b\b\b\b\b\b\b\b\b\b\b\b\b\b\b\b\b\b\b\b\b\b\b\b\b\b\b\b\b\b\b\b\b\b\b\b\b\r",
      "\u001b[1m261/294\u001b[0m \u001b[32m━━━━━━━━━━━━━━━━━\u001b[0m\u001b[37m━━━\u001b[0m \u001b[1m0s\u001b[0m 774us/step"
     ]
    },
    {
     "name": "stdout",
     "output_type": "stream",
     "text": [
      "\b\b\b\b\b\b\b\b\b\b\b\b\b\b\b\b\b\b\b\b\b\b\b\b\b\b\b\b\b\b\b\b\b\b\b\b\b\b\b\b\b\b\r",
      "\u001b[1m294/294\u001b[0m \u001b[32m━━━━━━━━━━━━━━━━━━━━\u001b[0m\u001b[37m\u001b[0m \u001b[1m0s\u001b[0m 913us/step"
     ]
    },
    {
     "name": "stdout",
     "output_type": "stream",
     "text": [
      "\b\b\b\b\b\b\b\b\b\b\b\b\b\b\b\b\b\b\b\b\b\b\b\b\b\b\b\b\b\b\b\b\b\b\b\b\b\b\b\b\b\b\r",
      "\u001b[1m294/294\u001b[0m \u001b[32m━━━━━━━━━━━━━━━━━━━━\u001b[0m\u001b[37m\u001b[0m \u001b[1m0s\u001b[0m 918us/step\n"
     ]
    },
    {
     "name": "stdout",
     "output_type": "stream",
     "text": [
      "\r",
      "\u001b[1m 1/50\u001b[0m \u001b[37m━━━━━━━━━━━━━━━━━━━━\u001b[0m \u001b[1m0s\u001b[0m 14ms/step"
     ]
    },
    {
     "name": "stdout",
     "output_type": "stream",
     "text": [
      "\b\b\b\b\b\b\b\b\b\b\b\b\b\b\b\b\b\b\b\b\b\b\b\b\b\b\b\b\b\b\b\b\b\b\b\b\b\b\b\r",
      "\u001b[1m50/50\u001b[0m \u001b[32m━━━━━━━━━━━━━━━━━━━━\u001b[0m\u001b[37m\u001b[0m \u001b[1m0s\u001b[0m 798us/step\n"
     ]
    },
    {
     "name": "stdout",
     "output_type": "stream",
     "text": [
      "\r",
      "\u001b[1m 1/50\u001b[0m \u001b[37m━━━━━━━━━━━━━━━━━━━━\u001b[0m \u001b[1m0s\u001b[0m 14ms/step"
     ]
    },
    {
     "name": "stdout",
     "output_type": "stream",
     "text": [
      "\b\b\b\b\b\b\b\b\b\b\b\b\b\b\b\b\b\b\b\b\b\b\b\b\b\b\b\b\b\b\b\b\b\b\b\b\b\b\b\r",
      "\u001b[1m50/50\u001b[0m \u001b[32m━━━━━━━━━━━━━━━━━━━━\u001b[0m\u001b[37m\u001b[0m \u001b[1m0s\u001b[0m 778us/step\n"
     ]
    },
    {
     "name": "stdout",
     "output_type": "stream",
     "text": [
      "\r",
      "\u001b[1m 1/50\u001b[0m \u001b[37m━━━━━━━━━━━━━━━━━━━━\u001b[0m \u001b[1m0s\u001b[0m 14ms/step"
     ]
    },
    {
     "name": "stdout",
     "output_type": "stream",
     "text": [
      "\b\b\b\b\b\b\b\b\b\b\b\b\b\b\b\b\b\b\b\b\b\b\b\b\b\b\b\b\b\b\b\b\b\b\b\b\b\b\b\r",
      "\u001b[1m50/50\u001b[0m \u001b[32m━━━━━━━━━━━━━━━━━━━━\u001b[0m\u001b[37m\u001b[0m \u001b[1m0s\u001b[0m 772us/step\n"
     ]
    },
    {
     "name": "stdout",
     "output_type": "stream",
     "text": [
      "\r",
      "\u001b[1m  1/294\u001b[0m \u001b[37m━━━━━━━━━━━━━━━━━━━━\u001b[0m \u001b[1m4s\u001b[0m 14ms/step"
     ]
    },
    {
     "name": "stdout",
     "output_type": "stream",
     "text": [
      "\b\b\b\b\b\b\b\b\b\b\b\b\b\b\b\b\b\b\b\b\b\b\b\b\b\b\b\b\b\b\b\b\b\b\b\b\b\b\b\b\b\r",
      "\u001b[1m 66/294\u001b[0m \u001b[32m━━━━\u001b[0m\u001b[37m━━━━━━━━━━━━━━━━\u001b[0m \u001b[1m0s\u001b[0m 772us/step"
     ]
    },
    {
     "name": "stdout",
     "output_type": "stream",
     "text": [
      "\b\b\b\b\b\b\b\b\b\b\b\b\b\b\b\b\b\b\b\b\b\b\b\b\b\b\b\b\b\b\b\b\b\b\b\b\b\b\b\b\b\b\r",
      "\u001b[1m134/294\u001b[0m \u001b[32m━━━━━━━━━\u001b[0m\u001b[37m━━━━━━━━━━━\u001b[0m \u001b[1m0s\u001b[0m 754us/step"
     ]
    },
    {
     "name": "stdout",
     "output_type": "stream",
     "text": [
      "\b\b\b\b\b\b\b\b\b\b\b\b\b\b\b\b\b\b\b\b\b\b\b\b\b\b\b\b\b\b\b\b\b\b\b\b\b\b\b\b\b\b\r",
      "\u001b[1m201/294\u001b[0m \u001b[32m━━━━━━━━━━━━━\u001b[0m\u001b[37m━━━━━━━\u001b[0m \u001b[1m0s\u001b[0m 752us/step"
     ]
    },
    {
     "name": "stdout",
     "output_type": "stream",
     "text": [
      "\b\b\b\b\b\b\b\b\b\b\b\b\b\b\b\b\b\b\b\b\b\b\b\b\b\b\b\b\b\b\b\b\b\b\b\b\b\b\b\b\b\b\r",
      "\u001b[1m266/294\u001b[0m \u001b[32m━━━━━━━━━━━━━━━━━━\u001b[0m\u001b[37m━━\u001b[0m \u001b[1m0s\u001b[0m 757us/step"
     ]
    },
    {
     "name": "stdout",
     "output_type": "stream",
     "text": [
      "\b\b\b\b\b\b\b\b\b\b\b\b\b\b\b\b\b\b\b\b\b\b\b\b\b\b\b\b\b\b\b\b\b\b\b\b\b\b\b\b\b\b\r",
      "\u001b[1m294/294\u001b[0m \u001b[32m━━━━━━━━━━━━━━━━━━━━\u001b[0m\u001b[37m\u001b[0m \u001b[1m0s\u001b[0m 762us/step\n"
     ]
    },
    {
     "name": "stdout",
     "output_type": "stream",
     "text": [
      "\r",
      "\u001b[1m  1/294\u001b[0m \u001b[37m━━━━━━━━━━━━━━━━━━━━\u001b[0m \u001b[1m3s\u001b[0m 13ms/step"
     ]
    },
    {
     "name": "stdout",
     "output_type": "stream",
     "text": [
      "\b\b\b\b\b\b\b\b\b\b\b\b\b\b\b\b\b\b\b\b\b\b\b\b\b\b\b\b\b\b\b\b\b\b\b\b\b\b\b\b\b\r",
      "\u001b[1m 70/294\u001b[0m \u001b[32m━━━━\u001b[0m\u001b[37m━━━━━━━━━━━━━━━━\u001b[0m \u001b[1m0s\u001b[0m 729us/step"
     ]
    },
    {
     "name": "stdout",
     "output_type": "stream",
     "text": [
      "\b\b\b\b\b\b\b\b\b\b\b\b\b\b\b\b\b\b\b\b\b\b\b\b\b\b\b\b\b\b\b\b\b\b\b\b\b\b\b\b\b\b\r",
      "\u001b[1m140/294\u001b[0m \u001b[32m━━━━━━━━━\u001b[0m\u001b[37m━━━━━━━━━━━\u001b[0m \u001b[1m0s\u001b[0m 725us/step"
     ]
    },
    {
     "name": "stdout",
     "output_type": "stream",
     "text": [
      "\b\b\b\b\b\b\b\b\b\b\b\b\b\b\b\b\b\b\b\b\b\b\b\b\b\b\b\b\b\b\b\b\b\b\b\b\b\b\b\b\b\b\r",
      "\u001b[1m210/294\u001b[0m \u001b[32m━━━━━━━━━━━━━━\u001b[0m\u001b[37m━━━━━━\u001b[0m \u001b[1m0s\u001b[0m 724us/step"
     ]
    },
    {
     "name": "stdout",
     "output_type": "stream",
     "text": [
      "\b\b\b\b\b\b\b\b\b\b\b\b\b\b\b\b\b\b\b\b\b\b\b\b\b\b\b\b\b\b\b\b\b\b\b\b\b\b\b\b\b\b\r",
      "\u001b[1m280/294\u001b[0m \u001b[32m━━━━━━━━━━━━━━━━━━━\u001b[0m\u001b[37m━\u001b[0m \u001b[1m0s\u001b[0m 722us/step"
     ]
    },
    {
     "name": "stdout",
     "output_type": "stream",
     "text": [
      "\b\b\b\b\b\b\b\b\b\b\b\b\b\b\b\b\b\b\b\b\b\b\b\b\b\b\b\b\b\b\b\b\b\b\b\b\b\b\b\b\b\b\r",
      "\u001b[1m294/294\u001b[0m \u001b[32m━━━━━━━━━━━━━━━━━━━━\u001b[0m\u001b[37m\u001b[0m \u001b[1m0s\u001b[0m 725us/step\n"
     ]
    },
    {
     "data": {
      "image/png": "[encoded data removed]",
      "text/plain": [
       "<Figure size 650x350 with 6 Axes>"
      ]
     },
     "metadata": {},
     "output_type": "display_data"
    }
   ],
   "source": [
    "fig, axs = plt.subplots(2, 3)\n",
    "axs = axs.flatten()\n",
    "\n",
    "acc_scores = []\n",
    "\n",
    "for i, (ax, (d, subset)) in enumerate(zip(axs, v1_data.groupby('directory'))):\n",
    "    subset = subset.query('displacement > 6')\n",
    "    \n",
    "    # Get the values\n",
    "    # single_pred = traj_int_single.model.predict(subset[traj_int_single.featurizers.feature_labels()])\n",
    "    multi_pred = traj_int.model.predict(subset[traj_int.featurizers.feature_labels()])\n",
    "    \n",
    "    # Plot them\n",
    "    ax.plot(subset['displacement'], subset['force'], 'k--')\n",
    "    # ax.plot(subset['displacement'], single_pred, 'r', lw=1, alpha=0.8)\n",
    "    ax.plot(subset['displacement'], multi_pred, 'b', lw=1, alpha=0.8)\n",
    "    \n",
    "    if subset['force'].max() > 1:\n",
    "        ax.set_yscale('symlog')\n",
    "    \n",
    "    # Make a label for the figure\n",
    "    ax.text(0, 1, os.path.basename(d), bbox={'facecolor': 'w', 'edgecolor': 'k'},\n",
    "           transform=ax.transAxes)\n",
    "    \n",
    "    # Make axes labels\n",
    "    if i >= 3:\n",
    "        ax.set_xlabel('Displacement')\n",
    "    if i % 3 == 0:\n",
    "        ax.set_ylabel('Force ($E_H / a_B$)')\n",
    "        \n",
    "    # Measure the accuracy\n",
    "    acc_scores.append({\n",
    "        'subset': d,\n",
    "        # 'mae_single': mean_absolute_error(subset['force'], single_pred),\n",
    "        'mae_multi': mean_absolute_error(subset['force'], multi_pred),\n",
    "        # 'spearman_single': spearmanr(subset['force'], single_pred)[0],\n",
    "        'spearman_multi': spearmanr(subset['force'], multi_pred)[0],\n",
    "        'stopping': subset['force'].mean(),\n",
    "        # 'stopping_single': single_pred.mean(),\n",
    "        'stopping_multi': multi_pred.mean(),\n",
    "    })\n",
    "        \n",
    "            \n",
    "fig.tight_layout()\n",
    "fig.set_size_inches(6.5, 3.5)\n",
    "fig.savefig(os.path.join('figures', 'validation-set.png'), dpi=320)"
   ]
  },
  {
   "cell_type": "markdown",
   "metadata": {},
   "source": [
    "*Finding*: They look pretty similar"
   ]
  },
  {
   "cell_type": "markdown",
   "metadata": {},
   "source": [
    "### Compare the Scores Quantitatively\n",
    "See if the models just \"appear better\""
   ]
  },
  {
   "cell_type": "code",
   "execution_count": 16,
   "metadata": {
    "execution": {
     "iopub.execute_input": "2024-06-25T21:35:53.065283Z",
     "iopub.status.busy": "2024-06-25T21:35:53.065091Z",
     "iopub.status.idle": "2024-06-25T21:35:53.069718Z",
     "shell.execute_reply": "2024-06-25T21:35:53.069237Z"
    }
   },
   "outputs": [],
   "source": [
    "acc_scores = pd.DataFrame(acc_scores)"
   ]
  },
  {
   "cell_type": "code",
   "execution_count": 17,
   "metadata": {
    "execution": {
     "iopub.execute_input": "2024-06-25T21:35:53.072173Z",
     "iopub.status.busy": "2024-06-25T21:35:53.072003Z",
     "iopub.status.idle": "2024-06-25T21:35:53.265197Z",
     "shell.execute_reply": "2024-06-25T21:35:53.264185Z"
    }
   },
   "outputs": [
    {
     "data": {
      "text/html": [
       "<div>\n",
       "<style scoped>\n",
       "    .dataframe tbody tr th:only-of-type {\n",
       "        vertical-align: middle;\n",
       "    }\n",
       "\n",
       "    .dataframe tbody tr th {\n",
       "        vertical-align: top;\n",
       "    }\n",
       "\n",
       "    .dataframe thead th {\n",
       "        text-align: right;\n",
       "    }\n",
       "</style>\n",
       "<table border=\"1\" class=\"dataframe\">\n",
       "  <thead>\n",
       "    <tr style=\"text-align: right;\">\n",
       "      <th></th>\n",
       "      <th>subset</th>\n",
       "      <th>mae_multi</th>\n",
       "      <th>spearman_multi</th>\n",
       "      <th>stopping</th>\n",
       "      <th>stopping_multi</th>\n",
       "    </tr>\n",
       "  </thead>\n",
       "  <tbody>\n",
       "    <tr>\n",
       "      <th>0</th>\n",
       "      <td>datasets/256_Al/Dv1.0</td>\n",
       "      <td>0.008698</td>\n",
       "      <td>0.996122</td>\n",
       "      <td>0.240193</td>\n",
       "      <td>0.238550</td>\n",
       "    </tr>\n",
       "    <tr>\n",
       "      <th>1</th>\n",
       "      <td>datasets/Al_256_channel/Dv1.0</td>\n",
       "      <td>0.022625</td>\n",
       "      <td>0.900558</td>\n",
       "      <td>0.221916</td>\n",
       "      <td>0.236873</td>\n",
       "    </tr>\n",
       "    <tr>\n",
       "      <th>2</th>\n",
       "      <td>datasets/Dmin_v1.0</td>\n",
       "      <td>0.020669</td>\n",
       "      <td>0.998605</td>\n",
       "      <td>0.270083</td>\n",
       "      <td>0.263086</td>\n",
       "    </tr>\n",
       "    <tr>\n",
       "      <th>3</th>\n",
       "      <td>datasets/Dmod_v1.0</td>\n",
       "      <td>0.009353</td>\n",
       "      <td>0.989121</td>\n",
       "      <td>0.241831</td>\n",
       "      <td>0.242450</td>\n",
       "    </tr>\n",
       "    <tr>\n",
       "      <th>4</th>\n",
       "      <td>datasets/Doptimal_v1.0</td>\n",
       "      <td>0.018673</td>\n",
       "      <td>0.997225</td>\n",
       "      <td>0.240920</td>\n",
       "      <td>0.240290</td>\n",
       "    </tr>\n",
       "    <tr>\n",
       "      <th>5</th>\n",
       "      <td>datasets/Drnddir2_v1.0</td>\n",
       "      <td>0.013438</td>\n",
       "      <td>0.995520</td>\n",
       "      <td>0.248845</td>\n",
       "      <td>0.249427</td>\n",
       "    </tr>\n",
       "  </tbody>\n",
       "</table>\n",
       "</div>"
      ],
      "text/plain": [
       "                          subset  mae_multi  spearman_multi  stopping  \\\n",
       "0          datasets/256_Al/Dv1.0   0.008698        0.996122  0.240193   \n",
       "1  datasets/Al_256_channel/Dv1.0   0.022625        0.900558  0.221916   \n",
       "2             datasets/Dmin_v1.0   0.020669        0.998605  0.270083   \n",
       "3             datasets/Dmod_v1.0   0.009353        0.989121  0.241831   \n",
       "4         datasets/Doptimal_v1.0   0.018673        0.997225  0.240920   \n",
       "5         datasets/Drnddir2_v1.0   0.013438        0.995520  0.248845   \n",
       "\n",
       "   stopping_multi  \n",
       "0        0.238550  \n",
       "1        0.236873  \n",
       "2        0.263086  \n",
       "3        0.242450  \n",
       "4        0.240290  \n",
       "5        0.249427  "
      ]
     },
     "execution_count": 17,
     "metadata": {},
     "output_type": "execute_result"
    }
   ],
   "source": [
    "acc_scores"
   ]
  },
  {
   "cell_type": "markdown",
   "metadata": {},
   "source": [
    "#### Compare Fitness to Forces\n",
    "This is one metric of success"
   ]
  },
  {
   "cell_type": "code",
   "execution_count": 18,
   "metadata": {
    "execution": {
     "iopub.execute_input": "2024-06-25T21:35:53.268818Z",
     "iopub.status.busy": "2024-06-25T21:35:53.267905Z",
     "iopub.status.idle": "2024-06-25T21:35:53.397549Z",
     "shell.execute_reply": "2024-06-25T21:35:53.396658Z"
    }
   },
   "outputs": [
    {
     "data": {
      "image/png": "[encoded data removed]",
      "text/plain": [
       "<Figure size 350x350 with 1 Axes>"
      ]
     },
     "metadata": {},
     "output_type": "display_data"
    }
   ],
   "source": [
    "fig, ax = plt.subplots()\n",
    "\n",
    "# ax.scatter(acc_scores['spearman_single'], acc_scores['spearman_multi'])\n",
    "\n",
    "ax.set_xlim(ax.get_xlim())\n",
    "ax.set_ylim(ax.get_xlim())\n",
    "\n",
    "ax.plot(ax.get_xlim(), ax.get_ylim(), 'k--')\n",
    "\n",
    "ax.set_xlabel('Spearman, Single')\n",
    "ax.set_ylabel('Spearman, Mutli')\n",
    "\n",
    "fig.set_size_inches(3.5, 3.5)"
   ]
  },
  {
   "cell_type": "markdown",
   "metadata": {},
   "source": [
    "*Finding*: The Spearman correlation coefficient for the multi-velocity model is generally better."
   ]
  },
  {
   "cell_type": "markdown",
   "metadata": {},
   "source": [
    "### Compare Stopping Powers\n",
    "Which gives a better stopping power prediction"
   ]
  },
  {
   "cell_type": "code",
   "execution_count": 19,
   "metadata": {
    "execution": {
     "iopub.execute_input": "2024-06-25T21:35:53.400879Z",
     "iopub.status.busy": "2024-06-25T21:35:53.400015Z",
     "iopub.status.idle": "2024-06-25T21:35:53.407089Z",
     "shell.execute_reply": "2024-06-25T21:35:53.406688Z"
    }
   },
   "outputs": [
    {
     "name": "stdout",
     "output_type": "stream",
     "text": [
      "Multi-Velocity MAE: 4.238e-03 E_H/a_B\n",
      "Multi-Velocity MAE: 1.79%\n"
     ]
    }
   ],
   "source": [
    "print('Multi-Velocity MAE: {:.3e} E_H/a_B'.format(mean_absolute_error(acc_scores['stopping'], acc_scores['stopping_multi'])))\n",
    "print('Multi-Velocity MAE: {:.2f}%'.format(100 * np.mean(np.abs(acc_scores['stopping'] - acc_scores['stopping_multi']) / acc_scores['stopping'])))"
   ]
  },
  {
   "cell_type": "code",
   "execution_count": 20,
   "metadata": {
    "execution": {
     "iopub.execute_input": "2024-06-25T21:35:53.410214Z",
     "iopub.status.busy": "2024-06-25T21:35:53.409365Z",
     "iopub.status.idle": "2024-06-25T21:35:53.434954Z",
     "shell.execute_reply": "2024-06-25T21:35:53.434510Z"
    }
   },
   "outputs": [],
   "source": [
    "# print('Single-Velocity MAE: {:.3e} E_H/a_B'.format(mean_absolute_error(acc_scores['stopping'], acc_scores['stopping_single'])))\n",
    "# print('Single-Velocity MAE: {:.2f}%'.format(100 * np.mean(np.abs(acc_scores['stopping'] - acc_scores['stopping_single']) / acc_scores['stopping'])))"
   ]
  },
  {
   "cell_type": "code",
   "execution_count": 21,
   "metadata": {
    "execution": {
     "iopub.execute_input": "2024-06-25T21:35:53.438321Z",
     "iopub.status.busy": "2024-06-25T21:35:53.437426Z",
     "iopub.status.idle": "2024-06-25T21:35:53.606061Z",
     "shell.execute_reply": "2024-06-25T21:35:53.605487Z"
    }
   },
   "outputs": [
    {
     "data": {
      "image/png": "[encoded data removed]",
      "text/plain": [
       "<Figure size 350x350 with 1 Axes>"
      ]
     },
     "metadata": {},
     "output_type": "display_data"
    }
   ],
   "source": [
    "fig, ax = plt.subplots()\n",
    "\n",
    "ax.scatter(acc_scores['stopping'], acc_scores['stopping_multi'], label='Multi', alpha=0.7)\n",
    "# ax.scatter(acc_scores['stopping'], acc_scores['stopping_single'], label='Single', alpha=0.7)\n",
    "\n",
    "ax.set_ylim(ax.get_xlim())\n",
    "ax.set_xlim(ax.get_ylim())\n",
    "\n",
    "ax.plot(ax.get_xlim(), ax.get_ylim(), 'k--')\n",
    "\n",
    "ax.set_xlabel('S, TD-DFT ($E_H/a_B$)')\n",
    "ax.set_ylabel('S, ML ($E_H/a_B$)')\n",
    "\n",
    "fig.set_size_inches(3.5, 3.5)\n",
    "fig.tight_layout()"
   ]
  },
  {
   "cell_type": "markdown",
   "metadata": {},
   "source": [
    "*Finding*: The multi-velocity model has *slightly* better stopping power predictions."
   ]
  },
  {
   "cell_type": "code",
   "execution_count": null,
   "metadata": {},
   "outputs": [],
   "source": []
  }
 ],
 "metadata": {
  "kernelspec": {
   "display_name": "test_env",
   "language": "python",
   "name": "test_env"
  },
  "language_info": {
   "codemirror_mode": {
    "name": "ipython",
    "version": 3
   },
   "file_extension": ".py",
   "mimetype": "text/x-python",
   "name": "python",
   "nbconvert_exporter": "python",
   "pygments_lexer": "ipython3",
   "version": "3.9.16"
  }
 },
 "nbformat": 4,
 "nbformat_minor": 4
}
